{
 "cells": [
  {
   "cell_type": "markdown",
   "metadata": {},
   "source": [
    "# This is for data analysis learning [freecodecamp](https://www.youtube.com/watch?v=r-uOLxNrNk8&t=14s&ab_channel=freeCodeCamp.org)\n",
    "Let's goooo!"
   ]
  },
  {
   "cell_type": "code",
   "execution_count": 4,
   "metadata": {},
   "outputs": [
    {
     "name": "stdout",
     "output_type": "stream",
     "text": [
      "Hello World!\n"
     ]
    }
   ],
   "source": [
    "# import necessary libraries\n",
    "import numpy as np\n",
    "import pandas as pd\n",
    "import matplotlib.pyplot as plt\n",
    "print(\"Hello World!\")"
   ]
  },
  {
   "cell_type": "markdown",
   "metadata": {},
   "source": [
    "## Numpy learning\n",
    "Works very similarly to Python lists"
   ]
  },
  {
   "cell_type": "code",
   "execution_count": 7,
   "metadata": {},
   "outputs": [
    {
     "name": "stdout",
     "output_type": "stream",
     "text": [
      "[1 2 3 4 5]\n",
      "1\n",
      "int32\n",
      "5\n",
      "(3, 3)\n",
      "2\n",
      "9\n"
     ]
    }
   ],
   "source": [
    "a = np.array([1,2,3,4,5])\n",
    "print(a)\n",
    "print(a[0])\n",
    "print(a.dtype)\n",
    "\n",
    "A = np.array([[1,2,3],\n",
    "              [4,5,6],\n",
    "              [7,8,9]])\n",
    "\n",
    "print(A[1][1])\n",
    "print(A.shape)\n",
    "print(A.ndim)\n",
    "print(A.size)"
   ]
  },
  {
   "cell_type": "markdown",
   "metadata": {},
   "source": [
    "#### statistics"
   ]
  },
  {
   "cell_type": "code",
   "execution_count": 9,
   "metadata": {},
   "outputs": [
    {
     "name": "stdout",
     "output_type": "stream",
     "text": [
      "45\n",
      "5.0\n",
      "2.581988897471611\n",
      "6.666666666666667\n",
      "[12 15 18]\n"
     ]
    }
   ],
   "source": [
    "print(A.sum())\n",
    "\n",
    "print(A.mean())\n",
    "\n",
    "print(A.std())\n",
    "\n",
    "print(A.var())\n",
    "\n",
    "print(A.sum(axis=0))\n"
   ]
  },
  {
   "cell_type": "markdown",
   "metadata": {},
   "source": [
    "# Pandas\n",
    "### Pandas Dataframes and methods"
   ]
  },
  {
   "cell_type": "code",
   "execution_count": 12,
   "metadata": {},
   "outputs": [
    {
     "name": "stdout",
     "output_type": "stream",
     "text": [
      "[[0 0 0]\n",
      " [0 5 6]\n",
      " [7 8 9]]\n"
     ]
    }
   ],
   "source": [
    "A[ A < 5 ] = 0 \n",
    "print(A)\n",
    "\n",
    "df.columns # returns the column names of the dataframe\n",
    "df.index # returns the index of the dataframe\n",
    "df.info() # info returns the data type of each column and if there are any missing values\n",
    "df.size # returns the number of elements in the dataframe\n",
    "df.shape # returns the number of rows and columns in the dataframe\n",
    "df.describe() # returns the count, mean, std, min, 25%, 50%, 75%, max of each column\n"
   ]
  },
  {
   "cell_type": "code",
   "execution_count": null,
   "metadata": {},
   "outputs": [],
   "source": [
    "# for rows\n",
    "df.loc[\"Canada\"] # returns the row with label \"Canada\" IT'S PREFERED TO USE LOC FOR \n",
    "df.loc[[\"Canada\", \"Germany\"]] # returns the rows with labels \"Canada\" and \"Germany\"\n",
    "df.loc[\"Canada\":\"Germany\"] # returns the rows with labels \"Canada\" to \"Germany\"\n",
    "\n",
    "df.loc[\"Canada\":\"Germany\", \"Population\"] # returns the rows with labels \"Canada\" to \"Germany\" and column \"Population\"\n",
    "df.loc[\"Canada\":\"Germany\", [\"Population\", \"GDP\"]] # returns the rows with labels \"Canada\" to \"Germany\" and columns \"Population\" and \"GDP\"\n",
    "\n",
    "df.iloc[0] # returns the first row\n",
    "df.iloc[[0, 1]] # returns the first and second rows\n",
    "# the differnce between loc and iloc is that loc is inclusive of the last element and iloc is not\n",
    "\n",
    "# for columns\n",
    "df['Population'] # returns the entire column with label \"Population\""
   ]
  },
  {
   "cell_type": "markdown",
   "metadata": {},
   "source": [
    "### Conditional selection"
   ]
  },
  {
   "cell_type": "code",
   "execution_count": null,
   "metadata": {},
   "outputs": [],
   "source": [
    "df.loc[df['Population'] > 1000000] # returns the rows where the population is greater than 1000000\n",
    "df.loc[(df['Population'] > 1000000) & (df['GDP'] > 1000000)] # returns the rows where the population is greater than 1000000 and the GDP is greater than 1000000\n"
   ]
  },
  {
   "cell_type": "markdown",
   "metadata": {},
   "source": [
    "### Dropping"
   ]
  },
  {
   "cell_type": "code",
   "execution_count": null,
   "metadata": {},
   "outputs": [],
   "source": [
    "df_dropped = df.drop(\"Canada\") # drops the row with label \"Canada\"\n",
    "df.drop([\"Canada\", \"Germany\"]) # drops the rows with labels \"Canada\" and \"Germany\"\n",
    "df.drop(columns=[\"Population\"]) # drops the column \"Population\"\n",
    "df.drop(columns=[\"Population\", \"GDP\"]) # drops the columns \"Population\" and \"GDP\""
   ]
  },
  {
   "cell_type": "markdown",
   "metadata": {},
   "source": [
    "### Modifying"
   ]
  },
  {
   "cell_type": "code",
   "execution_count": null,
   "metadata": {},
   "outputs": [],
   "source": [
    "df[df['Population'] < 50000] = 0 # sets the rows where the population is less than 50000 to 0\n",
    "\n",
    "\n",
    "df['GDP per Capita'] = df['GDP'] / df['Population'] # creates a new column \"GDP per Capita\" by dividing the \"GDP\" column by the \"Population\" column"
   ]
  },
  {
   "cell_type": "markdown",
   "metadata": {},
   "source": [
    "### Reading external data and Plotting"
   ]
  },
  {
   "cell_type": "code",
   "execution_count": null,
   "metadata": {},
   "outputs": [],
   "source": [
    "df = pd.read_csv(\"file.csv\") # reads a csv file and returns a dataframe\n",
    "df.to_csv(\"file.csv\") # writes a dataframe to a csv file\n",
    "df = pd.read_excel(\"file.xlsx\") # reads an excel file and returns a dataframe\n",
    "df.to_excel(\"file.xlsx\") # writes a dataframe to an excel file\n",
    "\n",
    "df = pd.read_csv(\"file.csv\", index_col=0) # reads a csv file and sets the first column as the index\n",
    "df = pd.read_csv(\"file.csv\", header=None) # reads a csv file and sets the first row as the header\n",
    "\n",
    "df['Date'] = pd.to_datetime(df['Date']) # converts the \"Date\" column to datetime\n",
    "df['Date'] = df['Date'].dt.strftime('%Y-%m-%d') # converts the \"Date\" column to a string in the format \"YYYY-MM-DD\"\n",
    "\n"
   ]
  },
  {
   "cell_type": "markdown",
   "metadata": {},
   "source": [
    "# Plotting"
   ]
  },
  {
   "cell_type": "code",
   "execution_count": null,
   "metadata": {},
   "outputs": [],
   "source": [
    "prices.loc['2017-12-01':'2017-12-31'].plot(figsize=(10, 5))"
   ]
  },
  {
   "cell_type": "markdown",
   "metadata": {},
   "source": [
    "# Data Cleaning\n",
    "\n",
    "##### normal process\n",
    "1.- Missing data \\n\n"
   ]
  },
  {
   "cell_type": "code",
   "execution_count": null,
   "metadata": {},
   "outputs": [],
   "source": [
    "missing_values = df.isnull() # returns a dataframe of the same size as df with True where there are missing values and False where there are not\n",
    "missing_values = df.notnull() # returns a dataframe of the same size as df with False where there are missing values and True where there are not\n",
    "df.dropna() # drops the rows with missing values\n",
    "df.dropna(axis=1) # drops the columns with missing values\n",
    "df.fillna(0) # fills the missing values with 0\n",
    "df.fillna(method='ffill') # fills the missing values with the previous value\n",
    "df.fillna(method='bfill') # fills the missing values with the next value\n",
    "# fill with mean of \n",
    "df['Price'].fillna(df['Price'].mean(), inplace=True) # fills the missing values in the \"Price\" column with the mean of the column"
   ]
  },
  {
   "cell_type": "markdown",
   "metadata": {},
   "source": [
    "### Invalidate datas and duplicate data"
   ]
  },
  {
   "cell_type": "code",
   "execution_count": null,
   "metadata": {},
   "outputs": [],
   "source": [
    "# Find unique values in a column\n",
    "df['Country'].unique() # returns an array of the unique values in the \"Country\" column\n",
    "df['Country'].count() # returns the number of non-missing values in the \"Country\" column \n",
    "df['Country'].value_counts() # returns a series of the unique values in the \"Country\" column and their counts\n",
    "\n",
    "# remove duplicates\n",
    "df.drop_duplicates() # drops the duplicate rows\n",
    "df.drop_duplicates(subset=['Country']) # drops the rows where the \"Country\" column is duplicated\n",
    "df.drop_duplicates(subset=['Country'], keep='last') # drops the rows where the \"Country\" column is duplicated, keeping the last occurrence7\n",
    "df.drop_duplicates(subset=['Country'], keep='first') # drops the rows where the \"Country\" column is duplicated, keeping the first occurrence\n"
   ]
  },
  {
   "cell_type": "markdown",
   "metadata": {},
   "source": [
    "### String methods"
   ]
  },
  {
   "cell_type": "code",
   "execution_count": null,
   "metadata": {},
   "outputs": [],
   "source": [
    "#string operations\n",
    "df['Country'].str.lower() # converts the \"Country\" column to lowercase\n",
    "df['Country'].str.upper() # converts the \"Country\" column to uppercase\n",
    "df['Country'].str.len() # returns the length of the \"Country\" column\n",
    "df['Country'].str.contains('land') # returns a boolean array where the \"Country\" column contains the string \"land\"\n",
    "df['Country'].str.replace('land', 'LAND') # replaces the string \"land\" with \"LAND\" in the \"Country\" column\n",
    "df['Country'].str.split(' ') # splits the \"Country\" column by whitespace\n",
    "df['Country'].str.split(' ', expand=True) # splits the \"Country\" column by whitespace and returns a dataframe\n",
    "df['Country'].str.cat(sep=', ') # concatenates the \"Country\" column with \", \" as the separator\n",
    "df['Country'].str.get(0) # returns the first character of the \"Country\" column\n",
    "df['Country'].str[0] # returns the first character of the \"Country\" column\n",
    "df['Country'].str[0:3] # returns the first three characters of the \"Country\" column\n",
    "df['Country'].str.slice(0, 3) # returns the first three characters of the \"Country\" column\n",
    "df['Country'].str.startswith('A') # returns a boolean array where the \"Country\" column starts with the letter \"A\"\n",
    "df['Country'].str.endswith('a') # returns a boolean array where the \"Country\" column ends with the letter \"a\"\n",
    "df['Country'].str.find('a') # returns the position of the first occurrence of the letter \"a\" in the \"Country\" column\n",
    "df['Country'].str.findall('a') # returns a list of all occurrences of the letter \"a\" in the \"Country\" column\n",
    "df['Country'].str.extract('([A-Za-z]+)') # extracts the first word from the \"Country\" column\n",
    "df['Country'].str.extractall('([A-Za-z]+)') # extracts all words from the \"Country\" column\n",
    "df['Country'].str.contains('land') # returns a boolean array where the \"Country\" column contains the string \"land\"\n",
    "df['Country'].str.match('A') # returns a boolean array where the \"Country\" column starts with the letter \"A\"\n",
    "df['Country'].str.len() # returns the length of the \"Country\" column\n",
    "df['Country'].str.isnumeric() # returns a boolean array where the \"Country\" column is numeric\n",
    "df['Country'].str.isalpha() # returns a boolean array where the \"Country\" column is alphabetic\n",
    "df['Country'].str.isalnum() # returns a boolean array where the \"Country\" column is alphanumeric\n",
    "df['Country'].str.islower() # returns a boolean array where the \"Country\" column is lowercase\n",
    "df['Country'].str.isupper() # returns a boolean array where the \"Country\" column is uppercase\n",
    "df['Country'].str.isspace() # returns a boolean array where the \"Country\" column is whitespace\n",
    "df['Country'].str.isdecimal() # returns a boolean array where the \"Country\" column is decimal\n",
    "df['Country'].str.isnumeric() # returns a boolean array where the \"Country\" column is numeric\n",
    "df['Country'].str.isdigit() # returns a boolean array where the \"Country\" column is digit\n",
    "\n",
    "df['Country'].str.strip() # removes leading and trailing whitespace from the \"Country\" column\n",
    "df['Country'].str.lstrip() # removes leading whitespace from the \"Country\" column\n",
    "df['Country'].str.rstrip() # removes trailing whitespace from the \"Country\" column\n",
    "df['Country'].str.pad(width=10, side='left', fillchar='-') # pads the \"Country\" column with \"-\" on the left to a width of 10\n",
    "df['Country'].str.center(width=10, fillchar='-') # centers the \"Country\" column with \"-\" to a width of 10\n",
    "\n"
   ]
  }
 ],
 "metadata": {
  "kernelspec": {
   "display_name": "Python 3",
   "language": "python",
   "name": "python3"
  },
  "language_info": {
   "codemirror_mode": {
    "name": "ipython",
    "version": 3
   },
   "file_extension": ".py",
   "mimetype": "text/x-python",
   "name": "python",
   "nbconvert_exporter": "python",
   "pygments_lexer": "ipython3",
   "version": "3.11.2"
  }
 },
 "nbformat": 4,
 "nbformat_minor": 2
}
